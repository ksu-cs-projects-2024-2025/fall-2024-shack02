{
 "cells": [
  {
   "cell_type": "code",
   "execution_count": 1,
   "metadata": {},
   "outputs": [],
   "source": [
    "import pandas as pd\n",
    "import requests\n",
    "import spotipy\n",
    "from dotenv import load_dotenv\n",
    "import os\n",
    "from spotipy.oauth2 import SpotifyOAuth"
   ]
  },
  {
   "cell_type": "code",
   "execution_count": 2,
   "metadata": {},
   "outputs": [
    {
     "data": {
      "text/plain": [
       "True"
      ]
     },
     "execution_count": 2,
     "metadata": {},
     "output_type": "execute_result"
    }
   ],
   "source": [
    "load_dotenv()"
   ]
  },
  {
   "cell_type": "code",
   "execution_count": 3,
   "metadata": {},
   "outputs": [],
   "source": [
    "CLIENT_ID = os.getenv('client_id')\n",
    "CLIENT_SECRET = os.getenv('client_secret')\n"
   ]
  },
  {
   "cell_type": "code",
   "execution_count": 4,
   "metadata": {},
   "outputs": [],
   "source": [
    "sp = spotipy.Spotify(auth_manager=SpotifyOAuth(\n",
    "    client_id=CLIENT_ID,\n",
    "    client_secret=CLIENT_SECRET,\n",
    "    redirect_uri='http://localhost:8888/callback',\n",
    "    scope=\"user-library-read\"\n",
    "))"
   ]
  },
  {
   "cell_type": "code",
   "execution_count": 5,
   "metadata": {},
   "outputs": [
    {
     "data": {
      "text/plain": [
       "<spotipy.client.Spotify at 0x222233974d0>"
      ]
     },
     "execution_count": 5,
     "metadata": {},
     "output_type": "execute_result"
    }
   ],
   "source": [
    "sp"
   ]
  },
  {
   "cell_type": "code",
   "execution_count": 6,
   "metadata": {},
   "outputs": [],
   "source": [
    "def get_artists_from_playlist(playlist_id):\n",
    "    artist_ids = set()\n",
    "    results = sp.playlist_tracks(playlist_id)\n",
    "    \n",
    "    while results:\n",
    "        for item in results['items']:\n",
    "            artist = item['track']['artists'][0]\n",
    "            artist_ids.add(artist['id'])\n",
    "        \n",
    "        # Check if there's another page\n",
    "        results = sp.next(results) if results['next'] else None\n",
    "\n",
    "    return list(artist_ids)\n",
    "\n",
    "# Example: Top 50 Global Playlist\n",
    "top_50_global_playlist_id = '37i9dQZEVXbMDoHDwVN2tF'\n",
    "artist_ids = get_artists_from_playlist(top_50_global_playlist_id)"
   ]
  },
  {
   "cell_type": "code",
   "execution_count": 24,
   "metadata": {},
   "outputs": [],
   "source": [
    "def get_related_artists(artist_ids):\n",
    "    related_artist_ids = set()\n",
    "    \n",
    "    for artist_id in artist_ids:\n",
    "        results = sp.artist_related_artists(artist_id)\n",
    "        for artist in results['artists']:\n",
    "            related_artist_ids.add(artist['id'])\n",
    "\n",
    "    return list(related_artist_ids)\n",
    "\n",
    "# Expand the list by fetching related artists\n",
    "all_artist_ids = set(artist_ids)\n",
    "all_artist_ids.update(get_related_artists(artist_ids[0]))\n"
   ]
  },
  {
   "cell_type": "code",
   "execution_count": 7,
   "metadata": {},
   "outputs": [
    {
     "data": {
      "text/plain": [
       "42"
      ]
     },
     "execution_count": 7,
     "metadata": {},
     "output_type": "execute_result"
    }
   ],
   "source": [
    "all_artist_ids = set(artist_ids)\n",
    "len(all_artist_ids)"
   ]
  },
  {
   "cell_type": "code",
   "execution_count": 8,
   "metadata": {},
   "outputs": [
    {
     "name": "stdout",
     "output_type": "stream",
     "text": [
      "Popular Genres on Spotify:\n",
      "acoustic\n",
      "afrobeat\n",
      "alt-rock\n",
      "alternative\n",
      "ambient\n",
      "anime\n",
      "black-metal\n",
      "bluegrass\n",
      "blues\n",
      "bossanova\n",
      "brazil\n",
      "breakbeat\n",
      "british\n",
      "cantopop\n",
      "chicago-house\n",
      "children\n",
      "chill\n",
      "classical\n",
      "club\n",
      "comedy\n",
      "country\n",
      "dance\n",
      "dancehall\n",
      "death-metal\n",
      "deep-house\n",
      "detroit-techno\n",
      "disco\n",
      "disney\n",
      "drum-and-bass\n",
      "dub\n",
      "dubstep\n",
      "edm\n",
      "electro\n",
      "electronic\n",
      "emo\n",
      "folk\n",
      "forro\n",
      "french\n",
      "funk\n",
      "garage\n",
      "german\n",
      "gospel\n",
      "goth\n",
      "grindcore\n",
      "groove\n",
      "grunge\n",
      "guitar\n",
      "happy\n",
      "hard-rock\n",
      "hardcore\n",
      "hardstyle\n",
      "heavy-metal\n",
      "hip-hop\n",
      "holidays\n",
      "honky-tonk\n",
      "house\n",
      "idm\n",
      "indian\n",
      "indie\n",
      "indie-pop\n",
      "industrial\n",
      "iranian\n",
      "j-dance\n",
      "j-idol\n",
      "j-pop\n",
      "j-rock\n",
      "jazz\n",
      "k-pop\n",
      "kids\n",
      "latin\n",
      "latino\n",
      "malay\n",
      "mandopop\n",
      "metal\n",
      "metal-misc\n",
      "metalcore\n",
      "minimal-techno\n",
      "movies\n",
      "mpb\n",
      "new-age\n",
      "new-release\n",
      "opera\n",
      "pagode\n",
      "party\n",
      "philippines-opm\n",
      "piano\n",
      "pop\n",
      "pop-film\n",
      "post-dubstep\n",
      "power-pop\n",
      "progressive-house\n",
      "psych-rock\n",
      "punk\n",
      "punk-rock\n",
      "r-n-b\n",
      "rainy-day\n",
      "reggae\n",
      "reggaeton\n",
      "road-trip\n",
      "rock\n",
      "rock-n-roll\n",
      "rockabilly\n",
      "romance\n",
      "sad\n",
      "salsa\n",
      "samba\n",
      "sertanejo\n",
      "show-tunes\n",
      "singer-songwriter\n",
      "ska\n",
      "sleep\n",
      "songwriter\n",
      "soul\n",
      "soundtracks\n",
      "spanish\n",
      "study\n",
      "summer\n",
      "swedish\n",
      "synth-pop\n",
      "tango\n",
      "techno\n",
      "trance\n",
      "trip-hop\n",
      "turkish\n",
      "work-out\n",
      "world-music\n",
      "126\n"
     ]
    }
   ],
   "source": [
    "genre_seeds = sp.recommendation_genre_seeds()\n",
    "\n",
    "# Print the list of genres\n",
    "print(\"Popular Genres on Spotify:\")\n",
    "for genre in genre_seeds['genres']:\n",
    "    print(genre)\n",
    "\n",
    "print(len(genre_seeds['genres']))"
   ]
  },
  {
   "cell_type": "code",
   "execution_count": 9,
   "metadata": {},
   "outputs": [],
   "source": [
    "import json\n",
    "\n",
    "def search_artists_by_genre(genre, limit=100):\n",
    "    artist_ids = set()\n",
    "    results = sp.search(q=f'genre:{genre}', type='artist', limit=50)\n",
    "    \n",
    "    while results and len(artist_ids) < limit:\n",
    "        for artist in results['artists']['items']:\n",
    "            artist_ids.add(artist['id'])\n",
    "        \n",
    "        # Check if there's another page and update search results\n",
    "        if results['artists']['next']:\n",
    "            results = sp.next(results['artists'])\n",
    "        else:\n",
    "            results = None\n",
    "\n",
    "    return list(artist_ids)\n",
    "\n",
    "for genre in genre_seeds['genres']:\n",
    "    all_artist_ids.update(search_artists_by_genre(genre, limit=10))\n"
   ]
  },
  {
   "cell_type": "code",
   "execution_count": 10,
   "metadata": {},
   "outputs": [
    {
     "data": {
      "text/plain": [
       "4312"
      ]
     },
     "execution_count": 10,
     "metadata": {},
     "output_type": "execute_result"
    }
   ],
   "source": [
    "len(all_artist_ids)"
   ]
  },
  {
   "cell_type": "code",
   "execution_count": 30,
   "metadata": {},
   "outputs": [],
   "source": [
    "all_artist_ids.update(get_related_artists(artist_ids))"
   ]
  },
  {
   "cell_type": "code",
   "execution_count": 11,
   "metadata": {},
   "outputs": [
    {
     "data": {
      "text/plain": [
       "4312"
      ]
     },
     "execution_count": 11,
     "metadata": {},
     "output_type": "execute_result"
    }
   ],
   "source": [
    "len(all_artist_ids)"
   ]
  },
  {
   "cell_type": "code",
   "execution_count": 12,
   "metadata": {},
   "outputs": [],
   "source": [
    "track_df = pd.DataFrame()\n"
   ]
  },
  {
   "cell_type": "code",
   "execution_count": 14,
   "metadata": {},
   "outputs": [
    {
     "name": "stdout",
     "output_type": "stream",
     "text": [
      "In download all albums for artists\n",
      "in get albums for artist\n"
     ]
    }
   ],
   "source": [
    "def get_albums_for_artist(artist_id):\n",
    "    \"\"\"\n",
    "    Fetch all albums for a given artist ID.\n",
    "    \n",
    "    :param artist_id: The Spotify ID of the artist.\n",
    "    \"\"\"\n",
    "    print(\"in get albums for artist\")\n",
    "    albums = []\n",
    "    # results = api_call_wrapper(sp.artist_albums, artist_id, album_type='album', limit=50)\n",
    "    results = sp.artist_albums(artist_id, album_type='album', limit=1)\n",
    "    \n",
    "    # Paginate through results if there are more than 50 albums\n",
    "    while results:\n",
    "        albums.extend(results['items'])\n",
    "        if results['next']:\n",
    "            # results = api_call_wrapper(sp.next, results)\n",
    "            results = sp.next(results)\n",
    "        else:\n",
    "            results = None\n",
    "    \n",
    "    return albums\n",
    "\n",
    "def download_all_albums_for_artists(artist_list):\n",
    "    \"\"\"\n",
    "    Download all albums for a list of artists.\n",
    "    \n",
    "    :param artist_list: List of artist names or artist IDs.\n",
    "    :return: Pandas DataFrame with album details.\n",
    "    \"\"\"\n",
    "    all_albums_data = []\n",
    "    for artist in artist_list:\n",
    "        print(\"In download all albums for artists\")\n",
    "        albums = get_albums_for_artist(artist)\n",
    "        for album in albums:\n",
    "            all_albums_data.append({\n",
    "                'artist_name': album['artists'][0]['name'],\n",
    "                'artist_id': album['artists'][0]['id'],\n",
    "                'album_id': album['id'],\n",
    "                'album_name': album['name'],\n",
    "                'release_date': album['release_date'],\n",
    "                'total_tracks': album['total_tracks'],\n",
    "                'album_type': album['album_type']\n",
    "            })\n",
    "        print(f\"Downloaded {len(albums)} albums for artist: {artist}\")\n",
    "    \n",
    "    # Convert the results to a Pandas DataFrame\n",
    "    df_albums = pd.DataFrame(all_albums_data)\n",
    "    return df_albums\n",
    "\n",
    "df_albums = download_all_albums_for_artists(list(all_artist_ids)[:50])"
   ]
  },
  {
   "cell_type": "markdown",
   "metadata": {},
   "source": [
    "Current path for getting tracks is get genres, get artists by genres, get related artists of current artists, get artists top tracks, get audio features for each individual track.\n",
    "\n",
    "Keep current path for getting artists, and batch audio features of the top tracks to reduce api calls\n",
    "\n",
    "Get genres, get top artists, get related artists, get artists albums, get songs from albums,\n",
    "\n",
    "Create Album Df, contains album name, artist, release date, included songs,"
   ]
  },
  {
   "cell_type": "code",
   "execution_count": 16,
   "metadata": {},
   "outputs": [
    {
     "ename": "KeyError",
     "evalue": "'artist_id'",
     "output_type": "error",
     "traceback": [
      "\u001b[1;31m---------------------------------------------------------------------------\u001b[0m",
      "\u001b[1;31mKeyError\u001b[0m                                  Traceback (most recent call last)",
      "Cell \u001b[1;32mIn[16], line 79\u001b[0m\n\u001b[0;32m     70\u001b[0m \u001b[38;5;66;03m# Example list of artist IDs (replace with your actual artist IDs\u001b[39;00m\n\u001b[0;32m     71\u001b[0m \n\u001b[0;32m     72\u001b[0m \u001b[38;5;66;03m# Create DataFrame\u001b[39;00m\n\u001b[1;32m   (...)\u001b[0m\n\u001b[0;32m     75\u001b[0m \u001b[38;5;66;03m#         tracks_data = get_artist_tracks(artist_id)\u001b[39;00m\n\u001b[0;32m     76\u001b[0m \u001b[38;5;66;03m#         track_df.append(tracks_data)\u001b[39;00m\n\u001b[0;32m     78\u001b[0m \u001b[38;5;28;01mfor\u001b[39;00m artist \u001b[38;5;129;01min\u001b[39;00m \u001b[38;5;28mlist\u001b[39m(all_artist_ids):\n\u001b[1;32m---> 79\u001b[0m     \u001b[38;5;28;01mif\u001b[39;00m artist \u001b[38;5;129;01mnot\u001b[39;00m \u001b[38;5;129;01min\u001b[39;00m \u001b[43mtrack_df\u001b[49m\u001b[43m[\u001b[49m\u001b[38;5;124;43m'\u001b[39;49m\u001b[38;5;124;43martist_id\u001b[39;49m\u001b[38;5;124;43m'\u001b[39;49m\u001b[43m]\u001b[49m\u001b[38;5;241m.\u001b[39munique():\n\u001b[0;32m     80\u001b[0m         tracks_data \u001b[38;5;241m=\u001b[39m get_artist_tracks(artist)\n\u001b[0;32m     81\u001b[0m         track_df \u001b[38;5;241m=\u001b[39m pd\u001b[38;5;241m.\u001b[39mconcat([track_df,pd\u001b[38;5;241m.\u001b[39mDataFrame\u001b[38;5;241m.\u001b[39mfrom_dict(tracks_data)])\n",
      "File \u001b[1;32mc:\\Projects\\CIS598_Project\\fall-2024-shack02\\venv\\Lib\\site-packages\\pandas\\core\\frame.py:4102\u001b[0m, in \u001b[0;36mDataFrame.__getitem__\u001b[1;34m(self, key)\u001b[0m\n\u001b[0;32m   4100\u001b[0m \u001b[38;5;28;01mif\u001b[39;00m \u001b[38;5;28mself\u001b[39m\u001b[38;5;241m.\u001b[39mcolumns\u001b[38;5;241m.\u001b[39mnlevels \u001b[38;5;241m>\u001b[39m \u001b[38;5;241m1\u001b[39m:\n\u001b[0;32m   4101\u001b[0m     \u001b[38;5;28;01mreturn\u001b[39;00m \u001b[38;5;28mself\u001b[39m\u001b[38;5;241m.\u001b[39m_getitem_multilevel(key)\n\u001b[1;32m-> 4102\u001b[0m indexer \u001b[38;5;241m=\u001b[39m \u001b[38;5;28;43mself\u001b[39;49m\u001b[38;5;241;43m.\u001b[39;49m\u001b[43mcolumns\u001b[49m\u001b[38;5;241;43m.\u001b[39;49m\u001b[43mget_loc\u001b[49m\u001b[43m(\u001b[49m\u001b[43mkey\u001b[49m\u001b[43m)\u001b[49m\n\u001b[0;32m   4103\u001b[0m \u001b[38;5;28;01mif\u001b[39;00m is_integer(indexer):\n\u001b[0;32m   4104\u001b[0m     indexer \u001b[38;5;241m=\u001b[39m [indexer]\n",
      "File \u001b[1;32mc:\\Projects\\CIS598_Project\\fall-2024-shack02\\venv\\Lib\\site-packages\\pandas\\core\\indexes\\range.py:417\u001b[0m, in \u001b[0;36mRangeIndex.get_loc\u001b[1;34m(self, key)\u001b[0m\n\u001b[0;32m    415\u001b[0m         \u001b[38;5;28;01mraise\u001b[39;00m \u001b[38;5;167;01mKeyError\u001b[39;00m(key) \u001b[38;5;28;01mfrom\u001b[39;00m \u001b[38;5;21;01merr\u001b[39;00m\n\u001b[0;32m    416\u001b[0m \u001b[38;5;28;01mif\u001b[39;00m \u001b[38;5;28misinstance\u001b[39m(key, Hashable):\n\u001b[1;32m--> 417\u001b[0m     \u001b[38;5;28;01mraise\u001b[39;00m \u001b[38;5;167;01mKeyError\u001b[39;00m(key)\n\u001b[0;32m    418\u001b[0m \u001b[38;5;28mself\u001b[39m\u001b[38;5;241m.\u001b[39m_check_indexing_error(key)\n\u001b[0;32m    419\u001b[0m \u001b[38;5;28;01mraise\u001b[39;00m \u001b[38;5;167;01mKeyError\u001b[39;00m(key)\n",
      "\u001b[1;31mKeyError\u001b[0m: 'artist_id'"
     ]
    }
   ],
   "source": [
    "import time\n",
    "from requests.exceptions import ReadTimeout\n",
    "\n",
    "\n",
    "def fetch_with_retry(func, *args, **kwargs):\n",
    "    retries = 3\n",
    "    for attempt in range(retries):\n",
    "        try:\n",
    "            return func(*args, **kwargs)\n",
    "        except ReadTimeout:\n",
    "            print(f\"Timeout error, retrying... ({attempt + 1}/{retries})\")\n",
    "            time.sleep(2 ** attempt)  # Exponential backoff\n",
    "\n",
    "def get_artist_tracks(artist_id):\n",
    "    # Initialize a list to store track data\n",
    "    tracks_data = {\n",
    "        'artist_name': [],\n",
    "        'artist_genres': [],\n",
    "        'artist_id': [],\n",
    "        'track_id': [],\n",
    "        'track_name': [],\n",
    "        'danceability': [],\n",
    "        'energy': [],\n",
    "        'key': [],\n",
    "        'loudness': [],\n",
    "        'mode': [],\n",
    "        'speechiness': [],\n",
    "        'acousticness': [],\n",
    "        'instrumentalness': [],\n",
    "        'liveness': [],\n",
    "        'valence': [],\n",
    "        'tempo': []\n",
    "    }\n",
    "    \n",
    "    # Search for the artist's top tracks\n",
    "    results = sp.artist_top_tracks(artist_id)\n",
    "    track_ids = [track['id'] for track in results['tracks']]\n",
    "    track_features = fetch_with_retry(sp.audio_features, track_ids)\n",
    "    print(track_features)\n",
    "    for i, track in enumerate(results['tracks']):\n",
    "        track_id = track['id']\n",
    "        track_name = track['name']\n",
    "        artist_name = track['artists'][0]['name']\n",
    "        artist_id = track['artists'][0]['id']\n",
    "        # artist_genres = track['artists'][0]['genres']\n",
    "        # Fetch track features\n",
    "        \n",
    "        \n",
    "        # Append track data\n",
    "        tracks_data['artist_name'].append(artist_name)\n",
    "        tracks_data['artist_genres'].append(None)\n",
    "        tracks_data['artist_id'].append(artist_id)\n",
    "        tracks_data['track_id'].append(track_id)\n",
    "        tracks_data['track_name'].append(track_name)\n",
    "        tracks_data['danceability'].append(track_features[i]['danceability'] if track_features[i] else None)\n",
    "        tracks_data['energy'].append(track_features[i]['energy'] if track_features[i] else None)\n",
    "        tracks_data['key'].append(track_features[i]['key'] if track_features[i] else None)\n",
    "        tracks_data['loudness'].append(track_features[i]['loudness'] if track_features[i] else None)\n",
    "        tracks_data['mode'].append(track_features[i]['mode'] if track_features[i] else None)\n",
    "        tracks_data['speechiness'].append(track_features[i]['speechiness'] if track_features[i] else None)\n",
    "        tracks_data['acousticness'].append(track_features[i]['acousticness'] if track_features[i] else None)\n",
    "        tracks_data['instrumentalness'].append(track_features[i]['instrumentalness'] if track_features[i] else None)\n",
    "        tracks_data['liveness'].append(track_features[i]['liveness'] if track_features[i] else None)\n",
    "        tracks_data['valence'].append(track_features[i]['valence'] if track_features[i] else None)\n",
    "        tracks_data['tempo'].append(track_features[i]['tempo'] if track_features[i] else None)\n",
    "        \n",
    "    \n",
    "    return tracks_data\n",
    "\n",
    "# Example list of artist IDs (replace with your actual artist IDs\n",
    "\n",
    "# Create DataFrame\n",
    "# tracks_df = pd.DataFrame()\n",
    "# for artist_id in all_artist_ids:\n",
    "#         tracks_data = get_artist_tracks(artist_id)\n",
    "#         track_df.append(tracks_data)\n",
    "\n",
    "for artist in list(all_artist_ids):\n",
    "    if artist not in track_df['artist_id'].unique():\n",
    "        tracks_data = get_artist_tracks(artist)\n",
    "        track_df = pd.concat([track_df,pd.DataFrame.from_dict(tracks_data)])\n",
    "    \n",
    "\n",
    "\n",
    "\n",
    "# Display the DataFrame\n",
    "print(track_df.head())"
   ]
  },
  {
   "cell_type": "code",
   "execution_count": 17,
   "metadata": {},
   "outputs": [
    {
     "data": {
      "text/html": [
       "<div>\n",
       "<style scoped>\n",
       "    .dataframe tbody tr th:only-of-type {\n",
       "        vertical-align: middle;\n",
       "    }\n",
       "\n",
       "    .dataframe tbody tr th {\n",
       "        vertical-align: top;\n",
       "    }\n",
       "\n",
       "    .dataframe thead th {\n",
       "        text-align: right;\n",
       "    }\n",
       "</style>\n",
       "<table border=\"1\" class=\"dataframe\">\n",
       "  <thead>\n",
       "    <tr style=\"text-align: right;\">\n",
       "      <th></th>\n",
       "    </tr>\n",
       "  </thead>\n",
       "  <tbody>\n",
       "  </tbody>\n",
       "</table>\n",
       "</div>"
      ],
      "text/plain": [
       "Empty DataFrame\n",
       "Columns: []\n",
       "Index: []"
      ]
     },
     "execution_count": 17,
     "metadata": {},
     "output_type": "execute_result"
    }
   ],
   "source": [
    "track_df.head()"
   ]
  },
  {
   "cell_type": "code",
   "execution_count": null,
   "metadata": {},
   "outputs": [],
   "source": [
    "import time\n",
    "import datetime as dt\n",
    "from requests.exceptions import ReadTimeout, HTTPError\n",
    "\n",
    "def api_call_wrapper(func, *args, max_retries=3, delay=1, backoff_factor=2, calls=0, **kwargs):\n",
    "    \"\"\"\n",
    "    Wrapper for Spotify API calls to handle rate limiting and retries.\n",
    "    \n",
    "    :param func: The Spotipy API function you want to call.\n",
    "    :param args: Positional arguments for the API function.\n",
    "    :param max_retries: Maximum number of retries before giving up.\n",
    "    :param delay: Initial delay between retries (in seconds).\n",
    "    :param backoff_factor: Exponential backoff factor for delays.\n",
    "    :param kwargs: Keyword arguments for the API function.\n",
    "    :return: API response or None if the call failed.\n",
    "    \"\"\"\n",
    "    retries = 0\n",
    "    current_delay = delay\n",
    "    start_time = dt.datetime.now()\n",
    "    \n",
    "    while retries < max_retries:\n",
    "        try:\n",
    "            # Make the API call\n",
    "            response = func(*args, **kwargs)\n",
    "            calls += 1\n",
    "            return response, calls, dt.timedelta(dt.datetime.now, start_time)\n",
    "        \n",
    "        except HTTPError as e:\n",
    "            # Handle rate-limiting or server errors (status code 429 or 5xx)\n",
    "            if e.response.status_code == 429:\n",
    "                retry_after = int(e.response.headers.get(\"Retry-After\", 1))  # Spotify may provide Retry-After\n",
    "                print(f\"Rate limit exceeded. Retrying after {retry_after} seconds...\")\n",
    "                time.sleep(retry_after)\n",
    "            else:\n",
    "                print(f\"HTTP error: {e.response.status_code}. Retrying in {current_delay} seconds...\")\n",
    "                time.sleep(current_delay)\n",
    "                retries += 1\n",
    "                current_delay *= backoff_factor  # Exponential backoff\n",
    "            \n",
    "        except ReadTimeout:\n",
    "            # Handle timeout errors\n",
    "            print(f\"Request timed out. Retrying in {current_delay} seconds...\")\n",
    "            time.sleep(current_delay)\n",
    "            retries += 1\n",
    "            current_delay *= backoff_factor\n",
    "        \n",
    "        except Exception as e:\n",
    "            # Handle unexpected errors\n",
    "            print(f\"An error occurred: {e}. Retrying in {current_delay} seconds...\")\n",
    "            time.sleep(current_delay)\n",
    "            retries += 1\n",
    "            current_delay *= backoff_factor\n",
    "    \n",
    "    print(f\"Max retries reached for {func.__name__}.\")\n",
    "    return None  # Return None if the API call fails\n",
    "\n",
    "\n"
   ]
  }
 ],
 "metadata": {
  "kernelspec": {
   "display_name": "venv",
   "language": "python",
   "name": "python3"
  },
  "language_info": {
   "codemirror_mode": {
    "name": "ipython",
    "version": 3
   },
   "file_extension": ".py",
   "mimetype": "text/x-python",
   "name": "python",
   "nbconvert_exporter": "python",
   "pygments_lexer": "ipython3",
   "version": "3.11.5"
  }
 },
 "nbformat": 4,
 "nbformat_minor": 2
}
